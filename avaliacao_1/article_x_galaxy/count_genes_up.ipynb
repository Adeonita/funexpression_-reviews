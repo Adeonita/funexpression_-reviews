{
 "cells": [
  {
   "cell_type": "code",
   "execution_count": 2,
   "metadata": {},
   "outputs": [],
   "source": [
    "import pandas as pd\n",
    "\n",
    "data = pd.read_csv('genes_up.csv')"
   ]
  },
  {
   "cell_type": "code",
   "execution_count": 2,
   "metadata": {},
   "outputs": [],
   "source": [
    "only_in_galaxy = data.loc[data['Galaxy'].notnull() & data['Artigo'].isnull(), 'Galaxy']\n",
    "only_in_artigo = data.loc[data['Galaxy'].isnull() & data['Artigo'].notnull(), 'Artigo']\n",
    "in_both = data.loc[data['Galaxy'].notnull() & data['Artigo'].notnull(), ['Galaxy', 'Artigo']]"
   ]
  },
  {
   "cell_type": "code",
   "execution_count": 3,
   "metadata": {},
   "outputs": [
    {
     "name": "stdout",
     "output_type": "stream",
     "text": [
      "Records only in Galaxy: 140\n",
      "\n",
      "Records only in Artigo: 10\n",
      "\n",
      "Records in both Galaxy and Artigo: 111\n"
     ]
    }
   ],
   "source": [
    "print(\"Records only in Galaxy:\", len(only_in_galaxy))\n",
    "print(\"\\nRecords only in Artigo:\", len(only_in_artigo))\n",
    "print(\"\\nRecords in both Galaxy and Artigo:\", len(in_both))"
   ]
  }
 ],
 "metadata": {
  "kernelspec": {
   "display_name": "3.10.4",
   "language": "python",
   "name": "python3"
  },
  "language_info": {
   "codemirror_mode": {
    "name": "ipython",
    "version": 3
   },
   "file_extension": ".py",
   "mimetype": "text/x-python",
   "name": "python",
   "nbconvert_exporter": "python",
   "pygments_lexer": "ipython3",
   "version": "3.10.4"
  }
 },
 "nbformat": 4,
 "nbformat_minor": 2
}
