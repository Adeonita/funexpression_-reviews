{
 "cells": [
  {
   "cell_type": "markdown",
   "metadata": {},
   "source": [
    "- Amostras controle: SRR2042782, SRR2042783, SRR2042784\n",
    "- Amostras experimento: SRR2042785, SRR2042786, SRR2042787\n",
    "- Genoma de referência: GCA_000346795.1\n",
    "\n",
    "- doi: https://doi.org/10.1371/journal.pgen.1005509"
   ]
  },
  {
   "cell_type": "code",
   "execution_count": 1,
   "metadata": {},
   "outputs": [
    {
     "name": "stdout",
     "output_type": "stream",
     "text": [
      "Requirement already satisfied: pandas in /Users/adeonita/.pyenv/versions/3.10.4/lib/python3.10/site-packages (2.2.3)\n",
      "Requirement already satisfied: python-dateutil>=2.8.2 in /Users/adeonita/.pyenv/versions/3.10.4/lib/python3.10/site-packages (from pandas) (2.9.0.post0)\n",
      "Requirement already satisfied: tzdata>=2022.7 in /Users/adeonita/.pyenv/versions/3.10.4/lib/python3.10/site-packages (from pandas) (2024.2)\n",
      "Requirement already satisfied: pytz>=2020.1 in /Users/adeonita/.pyenv/versions/3.10.4/lib/python3.10/site-packages (from pandas) (2024.2)\n",
      "Requirement already satisfied: numpy>=1.22.4 in /Users/adeonita/.pyenv/versions/3.10.4/lib/python3.10/site-packages (from pandas) (2.1.0)\n",
      "Requirement already satisfied: six>=1.5 in /Users/adeonita/.pyenv/versions/3.10.4/lib/python3.10/site-packages (from python-dateutil>=2.8.2->pandas) (1.17.0)\n",
      "\u001b[33mWARNING: You are using pip version 22.0.4; however, version 24.3.1 is available.\n",
      "You should consider upgrading via the '/Users/adeonita/.pyenv/versions/3.10.4/bin/python -m pip install --upgrade pip' command.\u001b[0m\u001b[33m\n",
      "\u001b[0mNote: you may need to restart the kernel to use updated packages.\n"
     ]
    }
   ],
   "source": [
    "pip install pandas"
   ]
  },
  {
   "cell_type": "code",
   "execution_count": 2,
   "metadata": {},
   "outputs": [],
   "source": [
    "import pandas as pd\n",
    "\n",
    "data = pd.read_csv('genes_up.csv')"
   ]
  },
  {
   "cell_type": "code",
   "execution_count": 4,
   "metadata": {},
   "outputs": [],
   "source": [
    "only_in_galaxy = data.loc[data['Funexpression'].notnull() & data['Artigo'].isnull(), 'Funexpression']\n",
    "only_in_artigo = data.loc[data['Funexpression'].isnull() & data['Artigo'].notnull(), 'Artigo']\n",
    "in_both = data.loc[data['Funexpression'].notnull() & data['Artigo'].notnull(), ['Funexpression', 'Artigo']]"
   ]
  },
  {
   "cell_type": "code",
   "execution_count": 8,
   "metadata": {},
   "outputs": [
    {
     "name": "stdout",
     "output_type": "stream",
     "text": [
      "Records only in Funexpression: 91\n",
      "\n",
      "Records only in Artigo: 0\n",
      "\n",
      "Records in both Funexpression and Artigo: 121\n"
     ]
    }
   ],
   "source": [
    "print(\"Records only in Funexpression:\", len(only_in_galaxy))\n",
    "print(\"\\nRecords only in Artigo:\", len(only_in_artigo))\n",
    "print(\"\\nRecords in both Funexpression and Artigo:\", len(in_both))"
   ]
  }
 ],
 "metadata": {
  "kernelspec": {
   "display_name": "3.10.4",
   "language": "python",
   "name": "python3"
  },
  "language_info": {
   "codemirror_mode": {
    "name": "ipython",
    "version": 3
   },
   "file_extension": ".py",
   "mimetype": "text/x-python",
   "name": "python",
   "nbconvert_exporter": "python",
   "pygments_lexer": "ipython3",
   "version": "3.10.4"
  }
 },
 "nbformat": 4,
 "nbformat_minor": 2
}
